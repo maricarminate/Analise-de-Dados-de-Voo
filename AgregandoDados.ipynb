{
  "nbformat": 4,
  "nbformat_minor": 0,
  "metadata": {
    "colab": {
      "provenance": []
    },
    "kernelspec": {
      "name": "python3",
      "display_name": "Python 3"
    },
    "language_info": {
      "name": "python"
    }
  },
  "cells": [
    {
      "cell_type": "code",
      "execution_count": 1,
      "metadata": {
        "colab": {
          "base_uri": "https://localhost:8080/"
        },
        "id": "gGlwnFtBDJI0",
        "outputId": "d32df8b0-cbe2-4aaf-b55f-342951043ba8"
      },
      "outputs": [
        {
          "output_type": "stream",
          "name": "stdout",
          "text": [
            "Requirement already satisfied: pandas in /usr/local/lib/python3.12/dist-packages (2.2.2)\n",
            "Requirement already satisfied: numpy>=1.26.0 in /usr/local/lib/python3.12/dist-packages (from pandas) (2.0.2)\n",
            "Requirement already satisfied: python-dateutil>=2.8.2 in /usr/local/lib/python3.12/dist-packages (from pandas) (2.9.0.post0)\n",
            "Requirement already satisfied: pytz>=2020.1 in /usr/local/lib/python3.12/dist-packages (from pandas) (2025.2)\n",
            "Requirement already satisfied: tzdata>=2022.7 in /usr/local/lib/python3.12/dist-packages (from pandas) (2025.2)\n",
            "Requirement already satisfied: six>=1.5 in /usr/local/lib/python3.12/dist-packages (from python-dateutil>=2.8.2->pandas) (1.17.0)\n"
          ]
        }
      ],
      "source": [
        "pip install pandas"
      ]
    },
    {
      "cell_type": "code",
      "source": [
        "pip install numpy"
      ],
      "metadata": {
        "colab": {
          "base_uri": "https://localhost:8080/"
        },
        "id": "QBAa1yMKDbbk",
        "outputId": "b4b3d913-f92e-418b-f000-e8e2e79739ce"
      },
      "execution_count": 2,
      "outputs": [
        {
          "output_type": "stream",
          "name": "stdout",
          "text": [
            "Requirement already satisfied: numpy in /usr/local/lib/python3.12/dist-packages (2.0.2)\n"
          ]
        }
      ]
    },
    {
      "cell_type": "markdown",
      "source": [
        "Agrupando e agregando dados\n"
      ],
      "metadata": {
        "id": "gWmwe7RADvfc"
      }
    },
    {
      "cell_type": "code",
      "source": [
        "import numpy as np\n",
        "import pandas as pd"
      ],
      "metadata": {
        "id": "l9CrudWJDp0I"
      },
      "execution_count": 3,
      "outputs": []
    },
    {
      "cell_type": "code",
      "source": [
        "#Criando DataFrame\n",
        "df = pd.read_csv('Flights.csv')"
      ],
      "metadata": {
        "id": "Jf2ND5-aDhAp"
      },
      "execution_count": 6,
      "outputs": []
    },
    {
      "cell_type": "code",
      "source": [
        "#Cenário 1: Agrupando por origem e destino\n",
        "grouped = df.groupby(['Origin', 'Destination'])\n",
        "\n",
        "#aplica e agrega uma função ao grupo\n",
        "aggregated = grouped.agg({'Passengers' : 'sum', 'Flights' : 'sum'})\n",
        "\n",
        "#Seleciona os valores dessa tabela\n",
        "sorted_values = aggregated.sort_values(by = ['Passengers', 'Flights'], ascending = False)\n",
        "\n",
        "#Exibe os valores\n",
        "print(sorted_values.head())"
      ],
      "metadata": {
        "colab": {
          "base_uri": "https://localhost:8080/"
        },
        "id": "aRebUdqKEJzP",
        "outputId": "09b7fdbd-a1f7-4832-b14f-2f771226cf64"
      },
      "execution_count": 11,
      "outputs": [
        {
          "output_type": "stream",
          "name": "stdout",
          "text": [
            "                    Passengers  Flights\n",
            "Origin Destination                     \n",
            "OGG    HNL            32103192   392981\n",
            "HNL    OGG            29619301   388696\n",
            "LAS    LAX            26069274   289311\n",
            "LAX    LAS            25990009   294209\n",
            "PHX    LAS            21618801   230216\n"
          ]
        }
      ]
    },
    {
      "cell_type": "code",
      "source": [
        "#Cenário 2: Agrupando por data de voo\n",
        "\n",
        "#Convertendo fly date em datetime e criando mes para agrupamento\n",
        "df['Month'] = pd.to_datetime(df['Fly Date'], format='%Y%m').dt.to_period('M')\n",
        "\n",
        "#Agrupar por mes e agregar a soma da coluna voos\n",
        "grouped = df.groupby('Month')\n",
        "aggregated = grouped.agg({'Flights' : 'sum'})\n",
        "\n",
        "#Classificando por mês\n",
        "sorted_values = aggregated.sort_values(by = 'Month')\n",
        "\n",
        "#Exibe os valores\n",
        "print(sorted_values)"
      ],
      "metadata": {
        "colab": {
          "base_uri": "https://localhost:8080/"
        },
        "id": "wjS72ugfFC3A",
        "outputId": "fa2d103e-7ca4-424b-938c-ea9caabba41d"
      },
      "execution_count": 15,
      "outputs": [
        {
          "output_type": "stream",
          "name": "stdout",
          "text": [
            "         Flights\n",
            "Month           \n",
            "1990-01   147050\n",
            "1990-02   131979\n",
            "1990-03   149586\n",
            "1990-04   146542\n",
            "1990-05   152896\n",
            "...          ...\n",
            "2009-08   177016\n",
            "2009-09   166902\n",
            "2009-10   170380\n",
            "2009-11   161777\n",
            "2009-12   161342\n",
            "\n",
            "[240 rows x 1 columns]\n"
          ]
        }
      ]
    },
    {
      "cell_type": "code",
      "source": [],
      "metadata": {
        "id": "GTBiffT6HC96"
      },
      "execution_count": null,
      "outputs": []
    }
  ]
}