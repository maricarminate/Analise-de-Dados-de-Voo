{
  "nbformat": 4,
  "nbformat_minor": 0,
  "metadata": {
    "colab": {
      "provenance": []
    },
    "kernelspec": {
      "name": "python3",
      "display_name": "Python 3"
    },
    "language_info": {
      "name": "python"
    }
  },
  "cells": [
    {
      "cell_type": "code",
      "execution_count": 1,
      "metadata": {
        "colab": {
          "base_uri": "https://localhost:8080/"
        },
        "id": "gsoTHSIB-oTZ",
        "outputId": "24430aaf-418e-4739-d2b2-585aa8e0572b"
      },
      "outputs": [
        {
          "output_type": "stream",
          "name": "stdout",
          "text": [
            "Requirement already satisfied: pandas in /usr/local/lib/python3.12/dist-packages (2.2.2)\n",
            "Requirement already satisfied: numpy>=1.26.0 in /usr/local/lib/python3.12/dist-packages (from pandas) (2.0.2)\n",
            "Requirement already satisfied: python-dateutil>=2.8.2 in /usr/local/lib/python3.12/dist-packages (from pandas) (2.9.0.post0)\n",
            "Requirement already satisfied: pytz>=2020.1 in /usr/local/lib/python3.12/dist-packages (from pandas) (2025.2)\n",
            "Requirement already satisfied: tzdata>=2022.7 in /usr/local/lib/python3.12/dist-packages (from pandas) (2025.2)\n",
            "Requirement already satisfied: six>=1.5 in /usr/local/lib/python3.12/dist-packages (from python-dateutil>=2.8.2->pandas) (1.17.0)\n"
          ]
        }
      ],
      "source": [
        "pip install pandas"
      ]
    },
    {
      "cell_type": "code",
      "source": [
        "pip install numpy"
      ],
      "metadata": {
        "colab": {
          "base_uri": "https://localhost:8080/"
        },
        "id": "RwwO7DsJ-q0W",
        "outputId": "196b2bff-79a2-4172-d985-980d0b5d838d"
      },
      "execution_count": 2,
      "outputs": [
        {
          "output_type": "stream",
          "name": "stdout",
          "text": [
            "Requirement already satisfied: numpy in /usr/local/lib/python3.12/dist-packages (2.0.2)\n"
          ]
        }
      ]
    },
    {
      "cell_type": "code",
      "source": [
        "pip install matplotlib"
      ],
      "metadata": {
        "colab": {
          "base_uri": "https://localhost:8080/"
        },
        "id": "kCXNRRtV-seG",
        "outputId": "4eca8e84-5310-4676-bc99-5d1b736788fc"
      },
      "execution_count": 3,
      "outputs": [
        {
          "output_type": "stream",
          "name": "stdout",
          "text": [
            "Requirement already satisfied: matplotlib in /usr/local/lib/python3.12/dist-packages (3.10.0)\n",
            "Requirement already satisfied: contourpy>=1.0.1 in /usr/local/lib/python3.12/dist-packages (from matplotlib) (1.3.3)\n",
            "Requirement already satisfied: cycler>=0.10 in /usr/local/lib/python3.12/dist-packages (from matplotlib) (0.12.1)\n",
            "Requirement already satisfied: fonttools>=4.22.0 in /usr/local/lib/python3.12/dist-packages (from matplotlib) (4.60.1)\n",
            "Requirement already satisfied: kiwisolver>=1.3.1 in /usr/local/lib/python3.12/dist-packages (from matplotlib) (1.4.9)\n",
            "Requirement already satisfied: numpy>=1.23 in /usr/local/lib/python3.12/dist-packages (from matplotlib) (2.0.2)\n",
            "Requirement already satisfied: packaging>=20.0 in /usr/local/lib/python3.12/dist-packages (from matplotlib) (25.0)\n",
            "Requirement already satisfied: pillow>=8 in /usr/local/lib/python3.12/dist-packages (from matplotlib) (11.3.0)\n",
            "Requirement already satisfied: pyparsing>=2.3.1 in /usr/local/lib/python3.12/dist-packages (from matplotlib) (3.2.5)\n",
            "Requirement already satisfied: python-dateutil>=2.7 in /usr/local/lib/python3.12/dist-packages (from matplotlib) (2.9.0.post0)\n",
            "Requirement already satisfied: six>=1.5 in /usr/local/lib/python3.12/dist-packages (from python-dateutil>=2.7->matplotlib) (1.17.0)\n"
          ]
        }
      ]
    },
    {
      "cell_type": "code",
      "source": [
        "import pandas as pd\n",
        "import numpy as np\n",
        "import matplotlib.pyplot as plt"
      ],
      "metadata": {
        "id": "zi-HUDC6-uiO"
      },
      "execution_count": 4,
      "outputs": []
    },
    {
      "cell_type": "code",
      "source": [
        "#Criando DataFrame\n",
        "df = pd.read_csv('Flights.csv')"
      ],
      "metadata": {
        "id": "pyEnFmui-6AB"
      },
      "execution_count": 6,
      "outputs": []
    },
    {
      "cell_type": "markdown",
      "source": [
        "Filtragem de dados\n"
      ],
      "metadata": {
        "id": "5rNtfErQ_RoC"
      }
    },
    {
      "cell_type": "code",
      "source": [
        "#Cenário 1: Extrair registros de voos do ano 2000\n",
        "df['Year'] = df['Fly Date'].astype(str).str.slice(0, 4)\n",
        "voos2000 = df[df['Year'] == '2000']\n",
        "print(voos2000)"
      ],
      "metadata": {
        "colab": {
          "base_uri": "https://localhost:8080/"
        },
        "id": "L4W-Nrw5_Qxz",
        "outputId": "4fb4b8c5-ddfa-47f1-b0db-b7d29031415d"
      },
      "execution_count": 8,
      "outputs": [
        {
          "output_type": "stream",
          "name": "stdout",
          "text": [
            "        Unnamed: 0 Origin Destination    Origin City       Destination City  \\\n",
            "412            636    SEA         RDM    Seattle, WA               Bend, OR   \n",
            "413            637    SEA         RDM    Seattle, WA               Bend, OR   \n",
            "414            638    SEA         RDM    Seattle, WA               Bend, OR   \n",
            "415            639    SEA         RDM    Seattle, WA               Bend, OR   \n",
            "416            640    SEA         RDM    Seattle, WA               Bend, OR   \n",
            "...            ...    ...         ...            ...                    ...   \n",
            "617150     3606696    STL         TBN  St. Louis, MO  Fort Leonard Wood, MO   \n",
            "617151     3606697    STL         TBN  St. Louis, MO  Fort Leonard Wood, MO   \n",
            "617152     3606698    STL         TBN  St. Louis, MO  Fort Leonard Wood, MO   \n",
            "617153     3606699    STL         TBN  St. Louis, MO  Fort Leonard Wood, MO   \n",
            "617154     3606700    STL         TBN  St. Louis, MO  Fort Leonard Wood, MO   \n",
            "\n",
            "        Passengers  Seats  Flights  Distance  Fly Date  Origin Population  \\\n",
            "412           2023   4144      112     228.0    200001            6104758   \n",
            "413           2995   4699      127     228.0    200012            6104758   \n",
            "414           3134   5328      144     228.0    200009            6104758   \n",
            "415           3420   5328      144     228.0    200006            6104758   \n",
            "416           3108   5106      138     228.0    200010            6104758   \n",
            "...            ...    ...      ...       ...       ...                ...   \n",
            "617150         663   1425       75     119.0    200003            2701634   \n",
            "617151         166    342       18     119.0    200005            2701634   \n",
            "617152         548   1254       66     119.0    200001            2701634   \n",
            "617153         456   1311       69     119.0    200002            2701634   \n",
            "617154         589   1330       70     119.0    200004            2701634   \n",
            "\n",
            "        Destination Population  Year  \n",
            "412                     116618  2000  \n",
            "413                     116618  2000  \n",
            "414                     116618  2000  \n",
            "415                     116618  2000  \n",
            "416                     116618  2000  \n",
            "...                        ...   ...  \n",
            "617150                   41712  2000  \n",
            "617151                   41712  2000  \n",
            "617152                   41712  2000  \n",
            "617153                   41712  2000  \n",
            "617154                   41712  2000  \n",
            "\n",
            "[26329 rows x 13 columns]\n"
          ]
        }
      ]
    },
    {
      "cell_type": "code",
      "source": [
        "#Cenário 2: encontrar voos que não incluam LAX como origem\n",
        "no_lax = df[~df['Origin'].isin(['LAX'])]\n",
        "print(no_lax)"
      ],
      "metadata": {
        "colab": {
          "base_uri": "https://localhost:8080/"
        },
        "id": "zVmZGWUm_bDm",
        "outputId": "3009cecc-f78f-4c8b-8e61-c81cde91a65d"
      },
      "execution_count": 9,
      "outputs": [
        {
          "output_type": "stream",
          "name": "stdout",
          "text": [
            "        Unnamed: 0 Origin Destination    Origin City       Destination City  \\\n",
            "0                1    EUG         RDM     Eugene, OR               Bend, OR   \n",
            "1                2    EUG         RDM     Eugene, OR               Bend, OR   \n",
            "2               10    SEA         RDM    Seattle, WA               Bend, OR   \n",
            "3               11    SEA         RDM    Seattle, WA               Bend, OR   \n",
            "4               12    SEA         RDM    Seattle, WA               Bend, OR   \n",
            "...            ...    ...         ...            ...                    ...   \n",
            "617248     3606796    STL         TBN  St. Louis, MO  Fort Leonard Wood, MO   \n",
            "617249     3606797    STL         TBN  St. Louis, MO  Fort Leonard Wood, MO   \n",
            "617250     3606798    STL         TBN  St. Louis, MO  Fort Leonard Wood, MO   \n",
            "617251     3606799    STL         TBN  St. Louis, MO  Fort Leonard Wood, MO   \n",
            "617252     3606800    STL         TBN  St. Louis, MO  Fort Leonard Wood, MO   \n",
            "\n",
            "        Passengers  Seats  Flights  Distance  Fly Date  Origin Population  \\\n",
            "0               41    396       22     103.0    199011             284093   \n",
            "1               88    342       19     103.0    199012             284093   \n",
            "2              453   3128       23     228.0    199001            5154164   \n",
            "3              784   2720       20     228.0    199002            5154164   \n",
            "4              749   2992       22     228.0    199003            5154164   \n",
            "...            ...    ...      ...       ...       ...                ...   \n",
            "617248         331   1330       70     119.0    200905            2828990   \n",
            "617249         292   1311       69     119.0    200906            2828990   \n",
            "617250         281    969       51     119.0    200902            2828990   \n",
            "617251         245   1026       54     119.0    200911            2828990   \n",
            "617252         363   1273       67     119.0    200908            2828990   \n",
            "\n",
            "        Destination Population  Year  \n",
            "0                        76034  1990  \n",
            "1                        76034  1990  \n",
            "2                        76034  1990  \n",
            "3                        76034  1990  \n",
            "4                        76034  1990  \n",
            "...                        ...   ...  \n",
            "617248                   46457  2009  \n",
            "617249                   46457  2009  \n",
            "617250                   46457  2009  \n",
            "617251                   46457  2009  \n",
            "617252                   46457  2009  \n",
            "\n",
            "[610930 rows x 13 columns]\n"
          ]
        }
      ]
    },
    {
      "cell_type": "code",
      "source": [
        "#Cenário 3: todos os voo que tem LAX como origem\n",
        "lax = df[df['Origin'].isin(['LAX'])]\n",
        "print(lax)"
      ],
      "metadata": {
        "colab": {
          "base_uri": "https://localhost:8080/"
        },
        "id": "srAlFoKb_gWB",
        "outputId": "74aa5520-0467-402c-a99f-87edbdb7e27c"
      },
      "execution_count": 10,
      "outputs": [
        {
          "output_type": "stream",
          "name": "stdout",
          "text": [
            "        Unnamed: 0 Origin Destination      Origin City      Destination City  \\\n",
            "6775         31650    LAX         YUM  Los Angeles, CA              Yuma, AZ   \n",
            "6776         31651    LAX         YUM  Los Angeles, CA              Yuma, AZ   \n",
            "6777         31652    LAX         YUM  Los Angeles, CA              Yuma, AZ   \n",
            "6778         31653    LAX         YUM  Los Angeles, CA              Yuma, AZ   \n",
            "6779         31654    LAX         YUM  Los Angeles, CA              Yuma, AZ   \n",
            "...            ...    ...         ...              ...                   ...   \n",
            "616775     3606280    LAX         HII  Los Angeles, CA  Lake Havasu City, AZ   \n",
            "616776     3606281    LAX         HII  Los Angeles, CA  Lake Havasu City, AZ   \n",
            "616777     3606282    LAX         HII  Los Angeles, CA  Lake Havasu City, AZ   \n",
            "616778     3606283    LAX         HII  Los Angeles, CA  Lake Havasu City, AZ   \n",
            "616779     3606284    LAX         HII  Los Angeles, CA  Lake Havasu City, AZ   \n",
            "\n",
            "        Passengers  Seats  Flights  Distance  Fly Date  Origin Population  \\\n",
            "6775           893   3059      161     237.0    199509           23203726   \n",
            "6776          1096   3173      167     237.0    199510           23203726   \n",
            "6777           903   3021      159     237.0    199508           23203726   \n",
            "6778           751   3040      160     237.0    199507           23203726   \n",
            "6779          1051   2983      157     237.0    199511           23203726   \n",
            "...            ...    ...      ...       ...       ...                ...   \n",
            "616775         186    418       22     236.0    199611           23326070   \n",
            "616776         991   1501       79     236.0    199605           23326070   \n",
            "616777         822   1425       75     236.0    199607           23326070   \n",
            "616778         745   1387       73     236.0    199610           23326070   \n",
            "616779         851   1406       74     236.0    199606           23326070   \n",
            "\n",
            "        Destination Population  Year  \n",
            "6775                    121807  1995  \n",
            "6776                    121807  1995  \n",
            "6777                    121807  1995  \n",
            "6778                    121807  1995  \n",
            "6779                    121807  1995  \n",
            "...                        ...   ...  \n",
            "616775                  125838  1996  \n",
            "616776                  125838  1996  \n",
            "616777                  125838  1996  \n",
            "616778                  125838  1996  \n",
            "616779                  125838  1996  \n",
            "\n",
            "[6323 rows x 13 columns]\n"
          ]
        }
      ]
    },
    {
      "cell_type": "code",
      "source": [
        "#Cenário 4: mais de 100 passageiros e distancia menor que 1000 milhas\n",
        "passageiro_distancia = df[(df['Passengers'] > 100) & (df['Distance'] < 1000)]\n",
        "print(passageiro_distancia)"
      ],
      "metadata": {
        "colab": {
          "base_uri": "https://localhost:8080/"
        },
        "id": "FDTV-0EW_kmj",
        "outputId": "71afc5ba-4396-4067-b32c-ca959fcafa64"
      },
      "execution_count": 11,
      "outputs": [
        {
          "output_type": "stream",
          "name": "stdout",
          "text": [
            "        Unnamed: 0 Origin Destination    Origin City       Destination City  \\\n",
            "2               10    SEA         RDM    Seattle, WA               Bend, OR   \n",
            "3               11    SEA         RDM    Seattle, WA               Bend, OR   \n",
            "4               12    SEA         RDM    Seattle, WA               Bend, OR   \n",
            "5               14    PDX         RDM   Portland, OR               Bend, OR   \n",
            "6               15    PDX         RDM   Portland, OR               Bend, OR   \n",
            "...            ...    ...         ...            ...                    ...   \n",
            "617248     3606796    STL         TBN  St. Louis, MO  Fort Leonard Wood, MO   \n",
            "617249     3606797    STL         TBN  St. Louis, MO  Fort Leonard Wood, MO   \n",
            "617250     3606798    STL         TBN  St. Louis, MO  Fort Leonard Wood, MO   \n",
            "617251     3606799    STL         TBN  St. Louis, MO  Fort Leonard Wood, MO   \n",
            "617252     3606800    STL         TBN  St. Louis, MO  Fort Leonard Wood, MO   \n",
            "\n",
            "        Passengers  Seats  Flights  Distance  Fly Date  Origin Population  \\\n",
            "2              453   3128       23     228.0    199001            5154164   \n",
            "3              784   2720       20     228.0    199002            5154164   \n",
            "4              749   2992       22     228.0    199003            5154164   \n",
            "5              349    851       23     116.0    199001            1534762   \n",
            "6             1376   2898      161     116.0    199001            1534762   \n",
            "...            ...    ...      ...       ...       ...                ...   \n",
            "617248         331   1330       70     119.0    200905            2828990   \n",
            "617249         292   1311       69     119.0    200906            2828990   \n",
            "617250         281    969       51     119.0    200902            2828990   \n",
            "617251         245   1026       54     119.0    200911            2828990   \n",
            "617252         363   1273       67     119.0    200908            2828990   \n",
            "\n",
            "        Destination Population  Year  \n",
            "2                        76034  1990  \n",
            "3                        76034  1990  \n",
            "4                        76034  1990  \n",
            "5                        76034  1990  \n",
            "6                        76034  1990  \n",
            "...                        ...   ...  \n",
            "617248                   46457  2009  \n",
            "617249                   46457  2009  \n",
            "617250                   46457  2009  \n",
            "617251                   46457  2009  \n",
            "617252                   46457  2009  \n",
            "\n",
            "[567988 rows x 13 columns]\n"
          ]
        }
      ]
    },
    {
      "cell_type": "code",
      "source": [
        "#Cenário 5: Todos os voos de/para New York ou Los Angeles\n",
        "cidades = df[df['Origin City'].str.contains('New York|Los Angeles') | df['Destination City'].str.contains('New York|Los Angeles')]\n",
        "print(cidades)"
      ],
      "metadata": {
        "colab": {
          "base_uri": "https://localhost:8080/"
        },
        "id": "PeeAUOfw_o0u",
        "outputId": "9b3d8a78-cc8f-4fa1-cb7b-e2ce86cd1399"
      },
      "execution_count": 12,
      "outputs": [
        {
          "output_type": "stream",
          "name": "stdout",
          "text": [
            "        Unnamed: 0 Origin Destination      Origin City      Destination City  \\\n",
            "6775         31650    LAX         YUM  Los Angeles, CA              Yuma, AZ   \n",
            "6776         31651    LAX         YUM  Los Angeles, CA              Yuma, AZ   \n",
            "6777         31652    LAX         YUM  Los Angeles, CA              Yuma, AZ   \n",
            "6778         31653    LAX         YUM  Los Angeles, CA              Yuma, AZ   \n",
            "6779         31654    LAX         YUM  Los Angeles, CA              Yuma, AZ   \n",
            "...            ...    ...         ...              ...                   ...   \n",
            "616775     3606280    LAX         HII  Los Angeles, CA  Lake Havasu City, AZ   \n",
            "616776     3606281    LAX         HII  Los Angeles, CA  Lake Havasu City, AZ   \n",
            "616777     3606282    LAX         HII  Los Angeles, CA  Lake Havasu City, AZ   \n",
            "616778     3606283    LAX         HII  Los Angeles, CA  Lake Havasu City, AZ   \n",
            "616779     3606284    LAX         HII  Los Angeles, CA  Lake Havasu City, AZ   \n",
            "\n",
            "        Passengers  Seats  Flights  Distance  Fly Date  Origin Population  \\\n",
            "6775           893   3059      161     237.0    199509           23203726   \n",
            "6776          1096   3173      167     237.0    199510           23203726   \n",
            "6777           903   3021      159     237.0    199508           23203726   \n",
            "6778           751   3040      160     237.0    199507           23203726   \n",
            "6779          1051   2983      157     237.0    199511           23203726   \n",
            "...            ...    ...      ...       ...       ...                ...   \n",
            "616775         186    418       22     236.0    199611           23326070   \n",
            "616776         991   1501       79     236.0    199605           23326070   \n",
            "616777         822   1425       75     236.0    199607           23326070   \n",
            "616778         745   1387       73     236.0    199610           23326070   \n",
            "616779         851   1406       74     236.0    199606           23326070   \n",
            "\n",
            "        Destination Population  Year  \n",
            "6775                    121807  1995  \n",
            "6776                    121807  1995  \n",
            "6777                    121807  1995  \n",
            "6778                    121807  1995  \n",
            "6779                    121807  1995  \n",
            "...                        ...   ...  \n",
            "616775                  125838  1996  \n",
            "616776                  125838  1996  \n",
            "616777                  125838  1996  \n",
            "616778                  125838  1996  \n",
            "616779                  125838  1996  \n",
            "\n",
            "[40978 rows x 13 columns]\n"
          ]
        }
      ]
    },
    {
      "cell_type": "code",
      "source": [
        "#Cenário 6: População de origem superior a 1 milhão de pessoas\n",
        "pop_origem = df[df['Origin Population'] > 1_000_000]\n",
        "print(pop_origem)"
      ],
      "metadata": {
        "colab": {
          "base_uri": "https://localhost:8080/"
        },
        "id": "mrVcZPm7_u1l",
        "outputId": "f348df39-39a3-41a6-ed67-a768a6e92555"
      },
      "execution_count": 13,
      "outputs": [
        {
          "output_type": "stream",
          "name": "stdout",
          "text": [
            "        Unnamed: 0 Origin Destination    Origin City       Destination City  \\\n",
            "2               10    SEA         RDM    Seattle, WA               Bend, OR   \n",
            "3               11    SEA         RDM    Seattle, WA               Bend, OR   \n",
            "4               12    SEA         RDM    Seattle, WA               Bend, OR   \n",
            "5               14    PDX         RDM   Portland, OR               Bend, OR   \n",
            "6               15    PDX         RDM   Portland, OR               Bend, OR   \n",
            "...            ...    ...         ...            ...                    ...   \n",
            "617248     3606796    STL         TBN  St. Louis, MO  Fort Leonard Wood, MO   \n",
            "617249     3606797    STL         TBN  St. Louis, MO  Fort Leonard Wood, MO   \n",
            "617250     3606798    STL         TBN  St. Louis, MO  Fort Leonard Wood, MO   \n",
            "617251     3606799    STL         TBN  St. Louis, MO  Fort Leonard Wood, MO   \n",
            "617252     3606800    STL         TBN  St. Louis, MO  Fort Leonard Wood, MO   \n",
            "\n",
            "        Passengers  Seats  Flights  Distance  Fly Date  Origin Population  \\\n",
            "2              453   3128       23     228.0    199001            5154164   \n",
            "3              784   2720       20     228.0    199002            5154164   \n",
            "4              749   2992       22     228.0    199003            5154164   \n",
            "5              349    851       23     116.0    199001            1534762   \n",
            "6             1376   2898      161     116.0    199001            1534762   \n",
            "...            ...    ...      ...       ...       ...                ...   \n",
            "617248         331   1330       70     119.0    200905            2828990   \n",
            "617249         292   1311       69     119.0    200906            2828990   \n",
            "617250         281    969       51     119.0    200902            2828990   \n",
            "617251         245   1026       54     119.0    200911            2828990   \n",
            "617252         363   1273       67     119.0    200908            2828990   \n",
            "\n",
            "        Destination Population  Year  \n",
            "2                        76034  1990  \n",
            "3                        76034  1990  \n",
            "4                        76034  1990  \n",
            "5                        76034  1990  \n",
            "6                        76034  1990  \n",
            "...                        ...   ...  \n",
            "617248                   46457  2009  \n",
            "617249                   46457  2009  \n",
            "617250                   46457  2009  \n",
            "617251                   46457  2009  \n",
            "617252                   46457  2009  \n",
            "\n",
            "[385477 rows x 13 columns]\n"
          ]
        }
      ]
    },
    {
      "cell_type": "code",
      "source": [
        "#Cenário 7: Voos que possuem assentos vazios e para onde são\n",
        "voos = df.query('Seats > Passengers')\n",
        "print(voos['Destination City'])"
      ],
      "metadata": {
        "colab": {
          "base_uri": "https://localhost:8080/"
        },
        "id": "Flfxc2JBAki1",
        "outputId": "d12b988d-793d-4653-a843-0d43c1fd5a94"
      },
      "execution_count": 14,
      "outputs": [
        {
          "output_type": "stream",
          "name": "stdout",
          "text": [
            "0                      Bend, OR\n",
            "1                      Bend, OR\n",
            "2                      Bend, OR\n",
            "3                      Bend, OR\n",
            "4                      Bend, OR\n",
            "                  ...          \n",
            "617248    Fort Leonard Wood, MO\n",
            "617249    Fort Leonard Wood, MO\n",
            "617250    Fort Leonard Wood, MO\n",
            "617251    Fort Leonard Wood, MO\n",
            "617252    Fort Leonard Wood, MO\n",
            "Name: Destination City, Length: 574520, dtype: object\n"
          ]
        }
      ]
    },
    {
      "cell_type": "code",
      "source": [
        "#Cenário 8: voos com distância < 300 milhas e com mais de 10 voos por mês\n",
        "voosp = df.query('Distance < 300 & Flights > 10')\n",
        "print(voosp)"
      ],
      "metadata": {
        "colab": {
          "base_uri": "https://localhost:8080/"
        },
        "id": "cUNaJyS3BLK7",
        "outputId": "b6c8e470-58c7-4841-9e10-7e32a15376ae"
      },
      "execution_count": 15,
      "outputs": [
        {
          "output_type": "stream",
          "name": "stdout",
          "text": [
            "        Unnamed: 0 Origin Destination    Origin City       Destination City  \\\n",
            "0                1    EUG         RDM     Eugene, OR               Bend, OR   \n",
            "1                2    EUG         RDM     Eugene, OR               Bend, OR   \n",
            "2               10    SEA         RDM    Seattle, WA               Bend, OR   \n",
            "3               11    SEA         RDM    Seattle, WA               Bend, OR   \n",
            "4               12    SEA         RDM    Seattle, WA               Bend, OR   \n",
            "...            ...    ...         ...            ...                    ...   \n",
            "617248     3606796    STL         TBN  St. Louis, MO  Fort Leonard Wood, MO   \n",
            "617249     3606797    STL         TBN  St. Louis, MO  Fort Leonard Wood, MO   \n",
            "617250     3606798    STL         TBN  St. Louis, MO  Fort Leonard Wood, MO   \n",
            "617251     3606799    STL         TBN  St. Louis, MO  Fort Leonard Wood, MO   \n",
            "617252     3606800    STL         TBN  St. Louis, MO  Fort Leonard Wood, MO   \n",
            "\n",
            "        Passengers  Seats  Flights  Distance  Fly Date  Origin Population  \\\n",
            "0               41    396       22     103.0    199011             284093   \n",
            "1               88    342       19     103.0    199012             284093   \n",
            "2              453   3128       23     228.0    199001            5154164   \n",
            "3              784   2720       20     228.0    199002            5154164   \n",
            "4              749   2992       22     228.0    199003            5154164   \n",
            "...            ...    ...      ...       ...       ...                ...   \n",
            "617248         331   1330       70     119.0    200905            2828990   \n",
            "617249         292   1311       69     119.0    200906            2828990   \n",
            "617250         281    969       51     119.0    200902            2828990   \n",
            "617251         245   1026       54     119.0    200911            2828990   \n",
            "617252         363   1273       67     119.0    200908            2828990   \n",
            "\n",
            "        Destination Population  Year  \n",
            "0                        76034  1990  \n",
            "1                        76034  1990  \n",
            "2                        76034  1990  \n",
            "3                        76034  1990  \n",
            "4                        76034  1990  \n",
            "...                        ...   ...  \n",
            "617248                   46457  2009  \n",
            "617249                   46457  2009  \n",
            "617250                   46457  2009  \n",
            "617251                   46457  2009  \n",
            "617252                   46457  2009  \n",
            "\n",
            "[617253 rows x 13 columns]\n"
          ]
        }
      ]
    },
    {
      "cell_type": "code",
      "source": [
        "#Salvando o último cenário\n",
        "voosp.to_csv('vooslucrativos.csv')"
      ],
      "metadata": {
        "id": "lc-SnkS_Bojh"
      },
      "execution_count": 16,
      "outputs": []
    },
    {
      "cell_type": "code",
      "source": [],
      "metadata": {
        "id": "YDuJM6nGB7dx"
      },
      "execution_count": null,
      "outputs": []
    }
  ]
}